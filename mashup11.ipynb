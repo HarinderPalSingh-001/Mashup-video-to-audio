{
  "cells": [
    {
      "cell_type": "code",
      "execution_count": null,
      "metadata": {
        "colab": {
          "base_uri": "https://localhost:8080/"
        },
        "id": "2H651pstxRK2",
        "outputId": "0147b7b1-41c0-4c27-d40b-3260f21b30ec"
      },
      "outputs": [
        {
          "name": "stdout",
          "output_type": "stream",
          "text": [
            "Requirement already satisfied: yt-dlp in /usr/local/lib/python3.10/dist-packages (2024.12.13)\n"
          ]
        }
      ],
      "source": [
        "!pip install yt-dlp\n"
      ]
    },
    {
      "cell_type": "code",
      "execution_count": null,
      "metadata": {
        "colab": {
          "base_uri": "https://localhost:8080/"
        },
        "id": "rtbYToJYyE5c",
        "outputId": "ec5194e8-b109-47da-c8e1-3cd771d69990"
      },
      "outputs": [
        {
          "name": "stdout",
          "output_type": "stream",
          "text": [
            "Requirement already satisfied: yt-dlp in /usr/local/lib/python3.10/dist-packages (2024.12.13)\n"
          ]
        }
      ],
      "source": [
        "!pip install --upgrade yt-dlp\n"
      ]
    },
    {
      "cell_type": "code",
      "execution_count": null,
      "metadata": {
        "colab": {
          "base_uri": "https://localhost:8080/"
        },
        "id": "jPXWzZSVyJLx",
        "outputId": "fd61fdf9-89d2-490a-a158-80de0324804b"
      },
      "outputs": [
        {
          "name": "stdout",
          "output_type": "stream",
          "text": [
            "[youtube:search] Extracting URL: ytsearch:sharry maan music videos\n",
            "[download] Downloading playlist: sharry maan music videos\n",
            "[youtube:search] query \"sharry maan music videos\": Downloading web client config\n",
            "[youtube:search] query \"sharry maan music videos\" page 1: Downloading API JSON\n",
            "[youtube:search] Playlist sharry maan music videos: Downloading 1 items of 1\n",
            "[download] Downloading item 1 of 1\n",
            "[youtube] Extracting URL: https://www.youtube.com/watch?v=Kd57YHWqrsI\n",
            "[youtube] Kd57YHWqrsI: Downloading webpage\n",
            "[youtube] Kd57YHWqrsI: Downloading ios player API JSON\n",
            "[youtube] Kd57YHWqrsI: Downloading mweb player API JSON\n",
            "[youtube] Kd57YHWqrsI: Downloading m3u8 information\n",
            "[download] Finished downloading playlist: sharry maan music videos\n",
            "Skipping Hostel Sharry Mann Video Song | Parmish Verma | Mista Baaz | New Punjabi Song 2017 | Punjabi Song as it has no valid URL\n",
            "Download process completed.\n"
          ]
        }
      ],
      "source": [
        "import yt_dlp\n",
        "import os\n",
        "\n",
        "# Specify the singer and number of videos you want to download\n",
        "singer = \"sharry maan\"  # Replace with the singer's name\n",
        "N = 10  # Number of videos to download (can be any positive number greater than 10)\n",
        "\n",
        "# Create the download folder if it doesn't exist\n",
        "download_folder = \"/content/songs\"\n",
        "if not os.path.exists(download_folder):\n",
        "    os.makedirs(download_folder)\n",
        "\n",
        "# Construct the search query\n",
        "search_query = f\"{singer} music videos\"\n",
        "\n",
        "# Set yt-dlp options\n",
        "ydl_opts = {\n",
        "    'quiet': False,  # Set to False to see the download progress\n",
        "    'format': 'bestvideo+bestaudio/best',  # Download the best quality video and audio\n",
        "    'outtmpl': os.path.join(download_folder, '%(title)s.%(ext)s'),  # Set the output template for saving files\n",
        "    'noplaylist': True,  # Don't download entire playlists, just individual videos\n",
        "}\n",
        "\n",
        "# Initialize yt-dlp with the options\n",
        "with yt_dlp.YoutubeDL(ydl_opts) as ydl:\n",
        "    try:\n",
        "        # Search for the singer's videos using ytsearch\n",
        "        result = ydl.extract_info(f\"ytsearch:{search_query}\", download=False)\n",
        "\n",
        "        # Check if we have valid entries in the search result\n",
        "        if 'entries' in result:\n",
        "            # Get the top N videos from the search results\n",
        "            videos_to_download = result['entries'][:N]\n",
        "\n",
        "            # Loop through the videos and download each one\n",
        "            for index, video in enumerate(videos_to_download, start=1):\n",
        "                try:\n",
        "                    # Ensure the video has a valid URL\n",
        "                    if 'url' in video:\n",
        "                        print(f\"Downloading video {index}: {video['title']}\")\n",
        "\n",
        "                        # Download the video using the extracted URL\n",
        "                        ydl.download([video['url']])\n",
        "\n",
        "                        print(f\"Downloaded {video['title']} successfully\")\n",
        "                    else:\n",
        "                        print(f\"Skipping {video['title']} as it has no valid URL\")\n",
        "                except Exception as e:\n",
        "                    print(f\"Failed to download {video['title']}. Error: {e}\")\n",
        "        else:\n",
        "            print(\"No valid video entries found.\")\n",
        "    except Exception as e:\n",
        "        print(f\"Failed to search for videos. Error: {e}\")\n",
        "\n",
        "print(\"Download process completed.\")\n"
      ]
    },
    {
      "cell_type": "code",
      "execution_count": null,
      "metadata": {
        "colab": {
          "base_uri": "https://localhost:8080/"
        },
        "id": "RvsqjLdkynAP",
        "outputId": "1eeeebfa-1d0f-4229-933b-bb324698342f"
      },
      "outputs": [
        {
          "name": "stdout",
          "output_type": "stream",
          "text": [
            "Requirement already satisfied: yt-dlp in /usr/local/lib/python3.10/dist-packages (2024.12.13)\n"
          ]
        }
      ],
      "source": [
        "!pip install yt-dlp\n"
      ]
    },
    {
      "cell_type": "code",
      "execution_count": null,
      "metadata": {
        "colab": {
          "base_uri": "https://localhost:8080/"
        },
        "id": "xwc0noGiz1IY",
        "outputId": "4dc99fb9-95bb-461a-c592-fac61328edf9"
      },
      "outputs": [
        {
          "name": "stdout",
          "output_type": "stream",
          "text": [
            "Requirement already satisfied: yt-dlp in /usr/local/lib/python3.10/dist-packages (2024.12.13)\n",
            "Requirement already satisfied: pydub in /usr/local/lib/python3.10/dist-packages (0.25.1)\n",
            "Reading package lists... Done\n",
            "Building dependency tree... Done\n",
            "Reading state information... Done\n",
            "ffmpeg is already the newest version (7:4.4.2-0ubuntu0.22.04.1).\n",
            "0 upgraded, 0 newly installed, 0 to remove and 49 not upgraded.\n"
          ]
        }
      ],
      "source": [
        "!pip install yt-dlp pydub\n",
        "!apt-get install ffmpeg\n"
      ]
    },
    {
      "cell_type": "code",
      "execution_count": null,
      "metadata": {
        "colab": {
          "base_uri": "https://localhost:8080/"
        },
        "id": "OhNSp-HZz2dJ",
        "outputId": "72b72b0c-9ac2-4fb2-ddb4-2f2e9e9d4407"
      },
      "outputs": [
        {
          "name": "stdout",
          "output_type": "stream",
          "text": [
            "[youtube:search] Extracting URL: ytsearch:sharry maan music videos\n",
            "[download] Downloading playlist: sharry maan music videos\n",
            "[youtube:search] query \"sharry maan music videos\": Downloading web client config\n",
            "[youtube:search] query \"sharry maan music videos\" page 1: Downloading API JSON\n",
            "[youtube:search] Playlist sharry maan music videos: Downloading 1 items of 1\n",
            "[download] Downloading item 1 of 1\n",
            "[youtube] Extracting URL: https://www.youtube.com/watch?v=Kd57YHWqrsI\n",
            "[youtube] Kd57YHWqrsI: Downloading webpage\n",
            "[youtube] Kd57YHWqrsI: Downloading ios player API JSON\n",
            "[youtube] Kd57YHWqrsI: Downloading mweb player API JSON\n",
            "[youtube] Kd57YHWqrsI: Downloading m3u8 information\n",
            "[info] Kd57YHWqrsI: Downloading 1 format(s): 251\n",
            "[download] Destination: /content/songs/Hostel Sharry Mann Video Song ｜ Parmish Verma ｜ Mista Baaz ｜ New Punjabi Song 2017 ｜ Punjabi Song.webm\n",
            "[download] 100% of    5.27MiB in 00:00:00 at 20.53MiB/s  \n",
            "[download] Finished downloading playlist: sharry maan music videos\n",
            "Downloading video 1: Hostel Sharry Mann Video Song | Parmish Verma | Mista Baaz | New Punjabi Song 2017 | Punjabi Song\n",
            "[generic] Extracting URL: https://rr4---sn-5ualdnls.googlevideo.com/videoplayback?expire=1734765795&ei=gxhmZ86PDPWJkucP5Yia...QB5pl6EwODnp8N1GU%3D\n",
            "[generic] videoplayback?expire=1734765795&ei=gxhmZ86PDPWJkucP5YiamA0&ip=35.196.201.71&id=o-APWL6N9vMkqYyFKDErBnQ8DoVuKs3tHHEETaeuCjgtcH&itag=251&source=youtube&requiressl=yes&xpc=EgVo2aDSNQ==&met=1734744195,&mh=aq&mm=31,26&mn=sn-5ualdnls,sn-a5msenll&ms=au,onr&mv=m&mvi=4&pl=20&rms=au,au&initcwndbps=5477500&bui=AfMhrI-ulRBK17qJ56VHp1mLVidthUZJFAxJPsT819lokP3drVMBkS3N2YmDb1M3qvoYoQnkssnXoJFQ&spc=x-caULpqszAzGmAzDZSNI8a8pBRy4cSfn_RVdU_5jeHHtzUn8scT&vprv=1&svpuc=1&mime=audio/webm&rqh=1&gir=yes&clen=5523668&dur=334: Downloading webpage\n",
            "[info] videoplayback?expire=1734765795&ei=gxhmZ86PDPWJkucP5YiamA0&ip=35.196.201.71&id=o-APWL6N9vMkqYyFKDErBnQ8DoVuKs3tHHEETaeuCjgtcH&itag=251&source=youtube&requiressl=yes&xpc=EgVo2aDSNQ==&met=1734744195,&mh=aq&mm=31,26&mn=sn-5ualdnls,sn-a5msenll&ms=au,onr&mv=m&mvi=4&pl=20&rms=au,au&initcwndbps=5477500&bui=AfMhrI-ulRBK17qJ56VHp1mLVidthUZJFAxJPsT819lokP3drVMBkS3N2YmDb1M3qvoYoQnkssnXoJFQ&spc=x-caULpqszAzGmAzDZSNI8a8pBRy4cSfn_RVdU_5jeHHtzUn8scT&vprv=1&svpuc=1&mime=audio/webm&rqh=1&gir=yes&clen=5523668&dur=334: Downloading 1 format(s): webm\n",
            "[download] Destination: /content/songs/videoplayback.webm\n",
            "[download] 100% of    5.27MiB in 00:02:41 at 33.44KiB/s  \n",
            "Failed to download or convert Hostel Sharry Mann Video Song | Parmish Verma | Mista Baaz | New Punjabi Song 2017 | Punjabi Song. Error: [Errno 2] No such file or directory: '/content/songs/Hostel Sharry Mann Video Song | Parmish Verma | Mista Baaz | New Punjabi Song 2017 | Punjabi Song.webm'\n",
            "Download and conversion process completed.\n"
          ]
        }
      ],
      "source": [
        "import yt_dlp\n",
        "import os\n",
        "from pydub import AudioSegment\n",
        "\n",
        "singer = \"sharry maan\"\n",
        "N = 10\n",
        "\n",
        "\n",
        "download_folder = \"/content/songs\"\n",
        "if not os.path.exists(download_folder):\n",
        "    os.makedirs(download_folder)\n",
        "\n",
        "audio_folder = \"/content/audio\"\n",
        "if not os.path.exists(audio_folder):\n",
        "    os.makedirs(audio_folder)\n",
        "\n",
        "search_query = f\"{singer} music videos\"\n",
        "\n",
        "\n",
        "ydl_opts = {\n",
        "    'quiet': False,\n",
        "    'format': 'bestaudio/best',\n",
        "    'outtmpl': os.path.join(download_folder, '%(title)s.%(ext)s'),\n",
        "    'noplaylist': True,\n",
        "}\n",
        "\n",
        "\n",
        "with yt_dlp.YoutubeDL(ydl_opts) as ydl:\n",
        "    try:\n",
        "\n",
        "        result = ydl.extract_info(f\"ytsearch:{search_query}\", download=True)\n",
        "\n",
        "\n",
        "        if 'entries' in result:\n",
        "\n",
        "            videos_to_download = result['entries'][:N]\n",
        "\n",
        "\n",
        "            for index, video in enumerate(videos_to_download, start=1):\n",
        "                try:\n",
        "\n",
        "                    if 'url' in video:\n",
        "                        print(f\"Downloading video {index}: {video['title']}\")\n",
        "\n",
        "                        ydl.download([video['url']])\n",
        "\n",
        "                        video_filename = os.path.join(download_folder, f\"{video['title']}.webm\")\n",
        "                        audio_filename = os.path.join(audio_folder, f\"{video['title']}.mp3\")\n",
        "\n",
        "\n",
        "                        audio = AudioSegment.from_file(video_filename)\n",
        "                        audio.export(audio_filename, format=\"mp3\")\n",
        "\n",
        "\n",
        "                        os.remove(video_filename)\n",
        "\n",
        "                        print(f\"Downloaded and converted {video['title']} to audio successfully\")\n",
        "                    else:\n",
        "                        print(f\"Skipping {video['title']} as it has no valid URL\")\n",
        "                except Exception as e:\n",
        "                    print(f\"Failed to download or convert {video['title']}. Error: {e}\")\n",
        "        else:\n",
        "            print(\"No valid video entries found.\")\n",
        "    except Exception as e:\n",
        "        print(f\"Failed to search for videos. Error: {e}\")\n",
        "\n",
        "print(\"Download and conversion process completed.\")\n"
      ]
    },
    {
      "cell_type": "code",
      "execution_count": null,
      "metadata": {
        "colab": {
          "base_uri": "https://localhost:8080/"
        },
        "id": "7GIxS-7z06In",
        "outputId": "1170c34c-bf1b-4b30-c90b-6422f2260a06"
      },
      "outputs": [
        {
          "name": "stdout",
          "output_type": "stream",
          "text": [
            "Requirement already satisfied: pydub in /usr/local/lib/python3.10/dist-packages (0.25.1)\n",
            "Reading package lists... Done\n",
            "Building dependency tree... Done\n",
            "Reading state information... Done\n",
            "ffmpeg is already the newest version (7:4.4.2-0ubuntu0.22.04.1).\n",
            "0 upgraded, 0 newly installed, 0 to remove and 49 not upgraded.\n"
          ]
        }
      ],
      "source": [
        "!pip install pydub\n",
        "!apt-get install ffmpeg\n"
      ]
    },
    {
      "cell_type": "code",
      "execution_count": null,
      "metadata": {
        "colab": {
          "base_uri": "https://localhost:8080/"
        },
        "id": "rgLRgfQy0-Tb",
        "outputId": "861bd062-1fb2-4cbd-e875-f511df29e114"
      },
      "outputs": [
        {
          "name": "stdout",
          "output_type": "stream",
          "text": [
            "Audio cutting process completed.\n"
          ]
        }
      ],
      "source": [
        "import os\n",
        "from pydub import AudioSegment\n",
        "\n",
        "Y = 30\n",
        "\n",
        "audio_folder = \"/content/audio\"\n",
        "\n",
        "\n",
        "for audio_file in os.listdir(audio_folder):\n",
        "    audio_path = os.path.join(audio_folder, audio_file)\n",
        "\n",
        "    if audio_file.endswith(\".mp3\"):\n",
        "        try:\n",
        "\n",
        "            audio = AudioSegment.from_mp3(audio_path)\n",
        "\n",
        "\n",
        "            audio_cut = audio[Y * 1000:]\n",
        "\n",
        "            #\n",
        "            audio_cut_path = os.path.join(audio_folder, f\"cut_{audio_file}\")\n",
        "            audio_cut.export(audio_cut_path, format=\"mp3\")\n",
        "\n",
        "            print(f\"Successfully cut the first {Y} seconds from {audio_file}\")\n",
        "\n",
        "        except Exception as e:\n",
        "            print(f\"Failed to cut audio from {audio_file}. Error: {e}\")\n",
        "\n",
        "print(\"Audio cutting process completed.\")\n"
      ]
    },
    {
      "cell_type": "code",
      "execution_count": null,
      "metadata": {
        "colab": {
          "base_uri": "https://localhost:8080/",
          "height": 35
        },
        "id": "ciKYqji91EyL",
        "outputId": "e65d2437-fb25-42a8-db63-23f247065632"
      },
      "outputs": [
        {
          "data": {
            "application/vnd.google.colaboratory.intrinsic+json": {
              "type": "string"
            },
            "text/plain": [
              "'/content/cut_audio_backup.zip'"
            ]
          },
          "execution_count": 29,
          "metadata": {},
          "output_type": "execute_result"
        }
      ],
      "source": [
        "import shutil\n",
        "\n",
        "\n",
        "shutil.make_archive('/content/cut_audio_backup', 'zip', '/content/audio')\n"
      ]
    },
    {
      "cell_type": "code",
      "execution_count": null,
      "metadata": {
        "id": "QLWJIwVD1-S-"
      },
      "outputs": [],
      "source": []
    },
    {
      "cell_type": "code",
      "execution_count": null,
      "metadata": {
        "colab": {
          "base_uri": "https://localhost:8080/"
        },
        "id": "g6wTN9xP1GtB",
        "outputId": "475b1c06-26c4-4ae1-bc40-a0b45d0747ba"
      },
      "outputs": [
        {
          "name": "stdout",
          "output_type": "stream",
          "text": [
            "Usage: python 101556.py <singer_name> <num_videos> <cut_seconds> <output_filename>\n"
          ]
        }
      ],
      "source": [
        "import sys\n",
        "import os\n",
        "from pydub import AudioSegment\n",
        "import yt_dlp\n",
        "\n",
        "def download_and_cut_audio(singer, num_videos, cut_seconds, output_filename):\n",
        "\n",
        "    download_folder = \"/content/songs\"\n",
        "    if not os.path.exists(download_folder):\n",
        "        os.makedirs(download_folder)\n",
        "\n",
        "    search_query = f\"{singer} music videos\"\n",
        "\n",
        "    ydl_opts = {\n",
        "        'quiet': False,\n",
        "        'format': 'bestaudio/best',  # Download the best audio quality\n",
        "        'outtmpl': os.path.join(download_folder, '%(title)s.%(ext)s'),\n",
        "        'noplaylist': True,  # Don't download playlists, just individual videos\n",
        "    }\n",
        "\n",
        "    with yt_dlp.YoutubeDL(ydl_opts) as ydl:\n",
        "        try:\n",
        "\n",
        "            result = ydl.extract_info(f\"ytsearch:{search_query}\", download=False)\n",
        "\n",
        "            if 'entries' in result:\n",
        "                videos_to_download = result['entries'][:num_videos]\n",
        "\n",
        "                for index, video in enumerate(videos_to_download, start=1):\n",
        "                    try:\n",
        "                        if 'url' in video:\n",
        "                            print(f\"Downloading video {index}: {video['title']}\")\n",
        "                            ydl.download([video['url']])\n",
        "                            print(f\"Downloaded {video['title']} successfully\")\n",
        "                        else:\n",
        "                            print(f\"Skipping {video['title']} as it has no valid URL\")\n",
        "                    except Exception as e:\n",
        "                        print(f\"Failed to download {video['title']}. Error: {e}\")\n",
        "            else:\n",
        "                print(\"No valid video entries found.\")\n",
        "        except Exception as e:\n",
        "            print(f\"Failed to search for videos. Error: {e}\")\n",
        "\n",
        "\n",
        "    audio_folder = \"/content/songs\"\n",
        "    output_path = os.path.join(audio_folder, output_filename)\n",
        "\n",
        "    for audio_file in os.listdir(audio_folder):\n",
        "        audio_path = os.path.join(audio_folder, audio_file)\n",
        "\n",
        "        if audio_file.endswith(\".mp3\"):\n",
        "            try:\n",
        "\n",
        "                audio = AudioSegment.from_mp3(audio_path)\n",
        "\n",
        "\n",
        "                audio_cut = audio[cut_seconds * 1000:]\n",
        "\n",
        "\n",
        "                audio_cut.export(output_path, format=\"mp3\")\n",
        "                print(f\"Successfully cut the first {cut_seconds} seconds and saved as {output_filename}\")\n",
        "\n",
        "            except Exception as e:\n",
        "                print(f\"Failed to cut audio from {audio_file}. Error: {e}\")\n",
        "\n",
        "    print(\"Audio cutting and processing completed.\")\n",
        "\n",
        "\n",
        "if len(sys.argv) != 5:\n",
        "    print(\"Usage: python 101556.py <singer_name> <num_videos> <cut_seconds> <output_filename>\")\n",
        "else:\n",
        "    try:\n",
        "\n",
        "        singer = sys.argv[1]\n",
        "        num_videos = int(sys.argv[2])\n",
        "        cut_seconds = int(sys.argv[3])\n",
        "        output_filename = sys.argv[4]\n",
        "\n",
        "\n",
        "        if num_videos <= 0 or cut_seconds <= 0:\n",
        "            raise ValueError(\"Number of videos and cut time must be positive integers.\")\n",
        "\n",
        "        print(f\"Starting download and cut process for {singer}...\\n\")\n",
        "        download_and_cut_audio(singer, num_videos, cut_seconds, output_filename)\n",
        "\n",
        "    except ValueError as e:\n",
        "        print(f\"Invalid input: {e}\")\n",
        "    except Exception as e:\n",
        "        print(f\"An error occurred: {e}\")\n"
      ]
    },
    {
      "cell_type": "code",
      "execution_count": null,
      "metadata": {
        "colab": {
          "base_uri": "https://localhost:8080/"
        },
        "id": "HM3lY6N42Ak9",
        "outputId": "1cf4bb7f-2ed3-4e93-e1d0-6fd20580566c"
      },
      "outputs": [
        {
          "name": "stdout",
          "output_type": "stream",
          "text": [
            "Requirement already satisfied: flask in /usr/local/lib/python3.10/dist-packages (3.1.0)\n",
            "Requirement already satisfied: yt-dlp in /usr/local/lib/python3.10/dist-packages (2024.12.13)\n",
            "Requirement already satisfied: pydub in /usr/local/lib/python3.10/dist-packages (0.25.1)\n",
            "\u001b[31mERROR: Could not find a version that satisfies the requirement smtplib (from versions: none)\u001b[0m\u001b[31m\n",
            "\u001b[0m\u001b[31mERROR: No matching distribution found for smtplib\u001b[0m\u001b[31m\n",
            "\u001b[0m"
          ]
        }
      ],
      "source": [
        "pip install flask yt-dlp pydub smtplib email-validator\n"
      ]
    },
    {
      "cell_type": "code",
      "execution_count": null,
      "metadata": {
        "colab": {
          "base_uri": "https://localhost:8080/"
        },
        "id": "gwHx8uoO2Lhy",
        "outputId": "1bb9a7c1-8104-4c90-a12f-b19e1a1faa63"
      },
      "outputs": [
        {
          "name": "stdout",
          "output_type": "stream",
          "text": [
            "Collecting email-validator\n",
            "  Downloading email_validator-2.2.0-py3-none-any.whl.metadata (25 kB)\n",
            "Collecting dnspython>=2.0.0 (from email-validator)\n",
            "  Downloading dnspython-2.7.0-py3-none-any.whl.metadata (5.8 kB)\n",
            "Requirement already satisfied: idna>=2.0.0 in /usr/local/lib/python3.10/dist-packages (from email-validator) (3.10)\n",
            "Downloading email_validator-2.2.0-py3-none-any.whl (33 kB)\n",
            "Downloading dnspython-2.7.0-py3-none-any.whl (313 kB)\n",
            "\u001b[2K   \u001b[90m━━━━━━━━━━━━━━━━━━━━━━━━━━━━━━━━━━━━━━━━\u001b[0m \u001b[32m313.6/313.6 kB\u001b[0m \u001b[31m8.5 MB/s\u001b[0m eta \u001b[36m0:00:00\u001b[0m\n",
            "\u001b[?25hInstalling collected packages: dnspython, email-validator\n",
            "Successfully installed dnspython-2.7.0 email-validator-2.2.0\n"
          ]
        }
      ],
      "source": [
        "pip install email-validator\n"
      ]
    },
    {
      "cell_type": "code",
      "execution_count": null,
      "metadata": {
        "colab": {
          "background_save": true,
          "base_uri": "https://localhost:8080/"
        },
        "id": "MTKNr0wa2OWk",
        "outputId": "c65a837b-934d-440d-cc77-49d0b4b1430a"
      },
      "outputs": [
        {
          "metadata": {
            "tags": null
          },
          "name": "stdout",
          "output_type": "stream",
          "text": [
            " * Serving Flask app '__main__'\n",
            " * Debug mode: on\n"
          ]
        },
        {
          "metadata": {
            "tags": null
          },
          "name": "stderr",
          "output_type": "stream",
          "text": [
            "INFO:werkzeug:\u001b[31m\u001b[1mWARNING: This is a development server. Do not use it in a production deployment. Use a production WSGI server instead.\u001b[0m\n",
            " * Running on http://127.0.0.1:5000\n",
            "INFO:werkzeug:\u001b[33mPress CTRL+C to quit\u001b[0m\n",
            "INFO:werkzeug: * Restarting with stat\n"
          ]
        }
      ],
      "source": [
        "import os\n",
        "import sys\n",
        "import yt_dlp\n",
        "from pydub import AudioSegment\n",
        "from zipfile import ZipFile\n",
        "import smtplib\n",
        "from email.mime.multipart import MIMEMultipart\n",
        "from email.mime.base import MIMEBase\n",
        "from email import encoders\n",
        "from email.utils import parseaddr\n",
        "from flask import Flask, request, jsonify\n",
        "\n",
        "app = Flask(__name__)\n",
        "\n",
        "\n",
        "def is_valid_email(email):\n",
        "    name, addr = parseaddr(email)\n",
        "    return '@' in addr and '.' in addr.split('@')[1]\n",
        "\n",
        "\n",
        "def download_and_process_videos(singer, num_videos, cut_seconds):\n",
        "    download_folder = \"./downloads\"\n",
        "    if not os.path.exists(download_folder):\n",
        "        os.makedirs(download_folder)\n",
        "\n",
        "    search_query = f\"{singer} music videos\"\n",
        "    ydl_opts = {\n",
        "        'quiet': False,\n",
        "        'format': 'bestaudio/best',\n",
        "        'outtmpl': os.path.join(download_folder, '%(title)s.%(ext)s'),\n",
        "        'noplaylist': True,\n",
        "    }\n",
        "\n",
        "    with yt_dlp.YoutubeDL(ydl_opts) as ydl:\n",
        "        result = ydl.extract_info(f\"ytsearch:{search_query}\", download=False)\n",
        "        if 'entries' in result:\n",
        "            videos_to_download = result['entries'][:num_videos]\n",
        "\n",
        "            audio_files = []\n",
        "            for index, video in enumerate(videos_to_download, start=1):\n",
        "                try:\n",
        "                    if 'url' in video:\n",
        "                        ydl.download([video['url']])\n",
        "\n",
        "\n",
        "                        audio_file_path = os.path.join(download_folder, f\"{video['title']}.mp3\")\n",
        "                        audio = AudioSegment.from_file(audio_file_path)\n",
        "\n",
        "\n",
        "                        audio_cut = audio[:cut_seconds * 1000]\n",
        "\n",
        "\n",
        "                        cut_audio_path = os.path.join(download_folder, f\"{video['title']}_cut.mp3\")\n",
        "                        audio_cut.export(cut_audio_path, format=\"mp3\")\n",
        "                        audio_files.append(cut_audio_path)\n",
        "                except Exception as e:\n",
        "                    print(f\"Failed to download or process video: {video['title']} - Error: {e}\")\n",
        "            return audio_files\n",
        "        else:\n",
        "            return []\n",
        "\n",
        "\n",
        "def send_email(zip_file_path, recipient_email):\n",
        "    try:\n",
        "\n",
        "        if not is_valid_email(recipient_email):\n",
        "            print(f\"Invalid email address: {recipient_email}\")\n",
        "            return\n",
        "\n",
        "\n",
        "        sender_email = \"your_email@example.com\"\n",
        "        sender_password = \"your_email_password\"\n",
        "        subject = \"Your Processed Audio Files\"\n",
        "\n",
        "\n",
        "        msg = MIMEMultipart()\n",
        "        msg['From'] = sender_email\n",
        "        msg['To'] = recipient_email\n",
        "        msg['Subject'] = subject\n",
        "\n",
        "\n",
        "        with open(zip_file_path, \"rb\") as file:\n",
        "            part = MIMEBase('application', 'octet-stream')\n",
        "            part.set_payload(file.read())\n",
        "            encoders.encode_base64(part)\n",
        "            part.add_header('Content-Disposition', f\"attachment; filename={os.path.basename(zip_file_path)}\")\n",
        "            msg.attach(part)\n",
        "\n",
        "        with smtplib.SMTP('smtp.gmail.com', 587) as server:\n",
        "            server.starttls()\n",
        "            server.login(sender_email, sender_password)\n",
        "            server.sendmail(sender_email, recipient_email, msg.as_string())\n",
        "        print(f\"Email sent to {recipient_email}\")\n",
        "    except Exception as e:\n",
        "        print(f\"Failed to send email. Error: {e}\")\n",
        "\n",
        "\n",
        "def zip_files(audio_files):\n",
        "    zip_file_path = \"./processed_audios.zip\"\n",
        "    with ZipFile(zip_file_path, 'w') as zipf:\n",
        "        for file in audio_files:\n",
        "            zipf.write(file, os.path.basename(file))\n",
        "    return zip_file_path\n",
        "\n",
        "@app.route('/process', methods=['POST'])\n",
        "def process_videos():\n",
        "    try:\n",
        "\n",
        "        data = request.json\n",
        "        singer = data['singer']\n",
        "        num_videos = int(data['num_videos'])\n",
        "        cut_seconds = int(data['cut_seconds'])\n",
        "        email = data['email']\n",
        "\n",
        "\n",
        "        if num_videos <= 0 or cut_seconds <= 0:\n",
        "            return jsonify({\"error\": \"Number of videos and cut time must be positive integers\"}), 400\n",
        "\n",
        "\n",
        "        audio_files = download_and_process_videos(singer, num_videos, cut_seconds)\n",
        "        if not audio_files:\n",
        "            return jsonify({\"error\": \"No videos were found or downloaded\"}), 404\n",
        "\n",
        "\n",
        "        zip_file_path = zip_files(audio_files)\n",
        "\n",
        "\n",
        "        send_email(zip_file_path, email)\n",
        "\n",
        "        return jsonify({\"message\": \"Audio files processed and sent via email successfully.\"}), 200\n",
        "    except Exception as e:\n",
        "        return jsonify({\"error\": str(e)}), 500\n",
        "\n",
        "if __name__ == '__main__':\n",
        "    app.run(debug=True)\n"
      ]
    }
  ],
  "metadata": {
    "colab": {
      "provenance": []
    },
    "kernelspec": {
      "display_name": "Python 3",
      "name": "python3"
    },
    "language_info": {
      "name": "python"
    }
  },
  "nbformat": 4,
  "nbformat_minor": 0
}